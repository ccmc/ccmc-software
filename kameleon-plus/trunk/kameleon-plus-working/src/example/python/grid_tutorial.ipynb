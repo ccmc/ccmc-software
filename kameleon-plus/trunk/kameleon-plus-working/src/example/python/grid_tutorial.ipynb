{
 "cells": [
  {
   "cell_type": "markdown",
   "metadata": {},
   "source": [
    "# Grid Tutorial\n",
    "This document details usage of the grid.py command line tool. Navigate to python examples:\n",
    "\n",
    "```\n",
    "cd ccmc-software/kameleon-plus/trunk/kameleon-plus-working/src/bin/examples/python\n",
    "```"
   ]
  },
  {
   "cell_type": "markdown",
   "metadata": {},
   "source": [
    "## Interrogating global metadata from a file\n",
    "\n",
    "If you want to see what global information is stored in the file, run\n",
    "```\n",
    "python grid.py /path/to/ccmc/output/file.cdf -ginfo\n",
    "```\n",
    "This will yield all the global parameters: model name, run type, run time, etc.\n",
    "\n",
    "To list all variables in the file, type:\n",
    "```\n",
    "python grid.py /path/to/ccmc/output/file.cdf -lvar -v\n",
    "```\n",
    "The -v verbose flag will also print variable metadata. You can use -vv for \"very verbose\" to get even more info."
   ]
  },
  {
   "cell_type": "markdown",
   "metadata": {},
   "source": [
    "## Querying variable metadata\n",
    "To get information on a specific variable, type:\n",
    "```\n",
    "python grid.py /path/to/ccmc/output/file.cdf -vinfo variable-name\n",
    "```\n",
    "where ```variable-name``` could be ```rho``` for density:\n",
    "```\n",
    "rho [ amu/cm^3 ]\n",
    "\tvalid_min : 0.0\n",
    "\tvalid_max : 9.99999995904e+11\n",
    "\tunits : amu/cm^3\n",
    "\tgrid_system : grid_system_1\n",
    "\tmask : -1.09951162778e+12\n",
    "\tdescription : atomic mass density, limit may bee exceeded in dense atmosphere; solar corona 2e8\n",
    "\tis_vector_component : 0\n",
    "\tposition_grid_system : grid_system_1\n",
    "\tdata_grid_system : grid_system_1\n",
    "\tactual_min : 0.0992666035891\n",
    "\tactual_max : 25.3303718567\n",
    "```"
   ]
  },
  {
   "cell_type": "markdown",
   "metadata": {},
   "source": [
    "## Choosing variables for interpolation ##\n",
    "To set which variables are to be interpolated, use\n",
    "```\n",
    "python grid.py /path/to/ccmc/output/file.cdf --variables var1 var2 var3\n",
    "```\n",
    "where you could use ```rho p bx by bz``` in place of ```var1 var2 var3```\n",
    "You will get an error if you try to choose a variable that does not exist."
   ]
  },
  {
   "cell_type": "markdown",
   "metadata": {},
   "source": [
    "## Setting interpolation positions ##\n",
    "The positions will depend on the coordinate system of the underlying model. For magnetospheric runs, this usually means SM coordinates. **Unfortunately, finding out which coordinate system is not yet documented!**\n",
    "\n",
    "There are three ways to set your interpolation positions:\n",
    "* Specifying a single position at command line\n",
    "* Specifying a rectilinear cartesian grid\n",
    "* Specifying an input file in columnar x,y,z format"
   ]
  },
  {
   "cell_type": "markdown",
   "metadata": {},
   "source": [
    "### Specifying a single position ###\n",
    "This is useful for verifying that you are in the right coordinate system and the results match what you would expect for your domain.\n",
    "```\n",
    "python grid.py /path/to/ccmc/output/file.cdf --variables var1 var2 var3 -p -30 0 0\n",
    "```\n",
    "This returns the following table (actual values/variables depend on input):\n",
    "```console\n",
    "rho[amu/cm^3]        p[nPa]        bx[nT]        by[nT]        bz[nT]\n",
    "       0.121        0.060        8.351       -0.824       -0.655\n",
    "```\n",
    "Interpolating outside the bounds of the model will result in junk data, most likely a large negative value.\n",
    "You can also format the output of this using c-style syntax:\n",
    "\n",
    "```console\n",
    "python grid.py /path/to/ccmc/output/file.cdf --variables var1 var2 var3 -d '\\t' -f \"12.3f\" -p -30 0 0 \n",
    "```\n",
    "Results in:\n",
    "```console\n",
    "rho[amu/cm^3]\t       p[nPa]\t       bx[nT]\t       by[nT]\t       bz[nT]\n",
    "       0.121\t       0.060\t       8.351\t      -0.824\t      -0.655\n",
    "```"
   ]
  },
  {
   "cell_type": "markdown",
   "metadata": {},
   "source": [
    "### Specifying a grid ###\n",
    "A grid may be generated in cartesian (or spherical?) coordinates. Parameters for specifying the grid are as follows:\n",
    "* ```-res <ni> <nj> <nk>``` Grid resolution in each dimension \n",
    "* ```-x <xmin> <xmax>.``` Inclusive range of x. If not specified, a constant value of x-intercept = 0 will be used.\n",
    "* ```-xint <x-intercept>``` overriedes default x-intercept. Ignored if ```-x``` is set.\n",
    "* ```-y <xmin> <xmax> -yint <y-intercept> -z <zmin> <zmax> -zint <z-intercept>``` same as above.\n",
    "* ```-order 'F'``` for Fortran-style column major. Positions will be in row major by default. "
   ]
  },
  {
   "cell_type": "markdown",
   "metadata": {},
   "source": [
    "#### Example 1 - Planar output ####\n",
    "This command computes variables on a 2 x 3 plane at x = -30 with fortran ordering:\n",
    "```\n",
    "python grid.py /path/to/ccmc/output/file.cdf -xint -30 -y -10 10 -z -10 10 -order 'F' -res 1 2 3 -vars rho p bx by bz\n",
    "```\n",
    "Returns:\n",
    "```\n",
    "           x            y            z rho[amu/cm^3]       p[nPa]       bx[nT]       by[nT]       bz[nT]\n",
    "     -30.000      -10.000      -10.000        0.463        0.005      -14.188       -3.648       -1.768\n",
    "     -30.000       10.000      -10.000        0.130        0.001      -14.626        0.292       -2.098\n",
    "     -30.000      -10.000        0.000        0.522        0.055        9.560        1.758        0.508\n",
    "     -30.000       10.000        0.000        0.397        0.043       10.131       -3.109        1.361\n",
    "     -30.000      -10.000       10.000        0.504        0.006       14.860       -0.025       -0.062\n",
    "     -30.000       10.000       10.000        0.191        0.003       15.025       -2.743        1.391\n",
    "```"
   ]
  },
  {
   "cell_type": "markdown",
   "metadata": {},
   "source": [
    "#### Example 2 - Volume output ####\n",
    "Computing variables on a 2 x 2 x 2 grid in the tail with C ordering:\n",
    "```\n",
    "python grid.py /path/to/ccmc/output/file.cdf -x -10 -50 -y -10 10 -z -10 10 -res 2 2 2 -vars rho p bx by bz\n",
    "```\n",
    "Returns:\n",
    "```\n",
    "           x            y            z rho[amu/cm^3]       p[nPa]       bx[nT]       by[nT]       bz[nT]\n",
    "     -10.000      -10.000      -10.000        0.956        0.020      -26.503      -12.704       -3.907\n",
    "     -10.000      -10.000       10.000        0.651        0.011       29.393        8.146       -4.921\n",
    "     -10.000       10.000      -10.000        0.366        0.007      -28.422        9.572       -6.825\n",
    "     -10.000       10.000       10.000        0.361        0.010       29.279      -10.665        0.849\n",
    "     -50.000      -10.000      -10.000        0.444        0.004      -10.964       -2.785       -2.127\n",
    "     -50.000      -10.000       10.000        0.723        0.007       11.192       -0.474        0.179\n",
    "     -50.000       10.000      -10.000        0.134        0.001      -11.449       -0.635       -2.087\n",
    "     -50.000       10.000       10.000        0.243        0.003       11.774       -2.202        0.056\n",
    "```"
   ]
  },
  {
   "cell_type": "markdown",
   "metadata": {},
   "source": [
    "## Output options ###\n",
    "In the above examples, results were printed to console by default. Alternatively, you may specify an output file in which to store the results:"
   ]
  },
  {
   "cell_type": "markdown",
   "metadata": {},
   "source": [
    "### Exporting to ASCII ###\n",
    "```\n",
    "  python grid.py /path/to/ccmc/output/file.cdf -x -10 -50 -y -10 10 -z -10 10 -res 2 2 2 -vars rho p bx by bz -o /tmp/output_file.txt\n",
    "```\n",
    "By default, the results are stored as column ascii data using the same format and delimitters as above. "
   ]
  },
  {
   "cell_type": "markdown",
   "metadata": {},
   "source": [
    "### Exporting to json ###\n",
    "```\n",
    "python grid.py /path/to/ccmc/output/file.cdf -p -30 0 0 -vars rho -o /tmp/results.json -ff json\n",
    "```"
   ]
  },
  {
   "cell_type": "markdown",
   "metadata": {},
   "source": [
    "### Exporting to IDL ([fits](http://idlastro.gsfc.nasa.gov/fitsio.html) format) ###\n",
    "\n",
    "```\n",
    "python grid.py /path/to/ccmc/output/file.cdf -x -10 -50 -y -10 10 -z -10 10 -res 2 2 2 -o /tmp/fits_out -ff fits -vars rho p bx by bz\n",
    "```\n",
    "The results may be read into IDL. To print the global and variable metadata from the cdf file:\n",
    "```\n",
    "IDL> results = MRDFITS('fits_out', 0, header)\n",
    "IDL> print, header\n",
    "```\n",
    "To extract the results of the interpolation:\n",
    "```\n",
    "IDL> results = MRDFITS('fits_out', 1, header)\n",
    "MRDFITS: Binary table.  8 columns by  8 rows.\n",
    "\n",
    "IDL> help, results,/str\n",
    "** Structure <131f5238>, 8 tags, length=32, data length=32, refs=1:\n",
    "   X               FLOAT          -10.0000\n",
    "   Y               FLOAT          -10.0000\n",
    "   Z               FLOAT          -10.0000\n",
    "   RHO             FLOAT          0.955738\n",
    "   P               FLOAT         0.0203208\n",
    "   BX              FLOAT          -26.5025\n",
    "   BY              FLOAT          -12.7045\n",
    "   BZ              FLOAT          -3.90678\n",
    "\n",
    "IDL> print, results\n",
    "{     -10.0000     -10.0000     -10.0000     0.955738    0.0203208     -26.5025     -12.7045     -3.90678}{     -10.0000     -10.0000      10.0000     0.650893    0.0111245      29.3928\n",
    "      8.14576     -4.92121}{     -10.0000      10.0000     -10.0000     0.365616   0.00686792     -28.4215      9.57153     -6.82492}{     -10.0000      10.0000      10.0000     0.361352\n",
    "   0.00967156      29.2788     -10.6648     0.849321}{     -50.0000     -10.0000     -10.0000     0.444090   0.00394465     -10.9637     -2.78490     -2.12730}{     -50.0000     -10.0000\n",
    "      10.0000     0.722521   0.00713427      11.1925    -0.474207     0.179418}{     -50.0000      10.0000     -10.0000     0.133836   0.00134037     -11.4489    -0.634802     -2.08698}{\n",
    "     -50.0000      10.0000      10.0000     0.242857   0.00283294      11.7740     -2.20208    0.0556372}\n",
    "```"
   ]
  },
  {
   "cell_type": "markdown",
   "metadata": {},
   "source": [
    "# Visualization"
   ]
  },
  {
   "cell_type": "code",
   "execution_count": 10,
   "metadata": {
    "collapsed": false
   },
   "outputs": [
    {
     "ename": "ImportError",
     "evalue": "dlopen(/Users/apembrok/miniconda2/lib/python2.7/site-packages/_CCMC.so, 2): Library not loaded: @rpath/libccmc.6.0.0.1.dylib\n  Referenced from: /Users/apembrok/miniconda2/lib/python2.7/site-packages/_CCMC.so\n  Reason: image not found",
     "output_type": "error",
     "traceback": [
      "\u001b[0;31m---------------------------------------------------------------------------\u001b[0m",
      "\u001b[0;31mImportError\u001b[0m                               Traceback (most recent call last)",
      "\u001b[0;32m<ipython-input-10-c20a97139496>\u001b[0m in \u001b[0;36m<module>\u001b[0;34m()\u001b[0m\n\u001b[1;32m      1\u001b[0m \u001b[0;32mimport\u001b[0m \u001b[0msys\u001b[0m\u001b[0;34m\u001b[0m\u001b[0m\n\u001b[1;32m      2\u001b[0m \u001b[0msys\u001b[0m\u001b[0;34m.\u001b[0m\u001b[0mpath\u001b[0m\u001b[0;34m.\u001b[0m\u001b[0mappend\u001b[0m\u001b[0;34m(\u001b[0m\u001b[0;34m'/Users/apembrok/kameleon/lib/python2.7/site-packages/ccmc/'\u001b[0m\u001b[0;34m)\u001b[0m\u001b[0;34m\u001b[0m\u001b[0m\n\u001b[0;32m----> 3\u001b[0;31m \u001b[0;32mimport\u001b[0m \u001b[0mCCMC\u001b[0m\u001b[0;34m\u001b[0m\u001b[0m\n\u001b[0m",
      "\u001b[0;32m/Users/apembrok/miniconda2/lib/python2.7/site-packages/CCMC.py\u001b[0m in \u001b[0;36m<module>\u001b[0;34m()\u001b[0m\n\u001b[1;32m     26\u001b[0m                 \u001b[0mfp\u001b[0m\u001b[0;34m.\u001b[0m\u001b[0mclose\u001b[0m\u001b[0;34m(\u001b[0m\u001b[0;34m)\u001b[0m\u001b[0;34m\u001b[0m\u001b[0m\n\u001b[1;32m     27\u001b[0m             \u001b[0;32mreturn\u001b[0m \u001b[0m_mod\u001b[0m\u001b[0;34m\u001b[0m\u001b[0m\n\u001b[0;32m---> 28\u001b[0;31m     \u001b[0m_CCMC\u001b[0m \u001b[0;34m=\u001b[0m \u001b[0mswig_import_helper\u001b[0m\u001b[0;34m(\u001b[0m\u001b[0;34m)\u001b[0m\u001b[0;34m\u001b[0m\u001b[0m\n\u001b[0m\u001b[1;32m     29\u001b[0m     \u001b[0;32mdel\u001b[0m \u001b[0mswig_import_helper\u001b[0m\u001b[0;34m\u001b[0m\u001b[0m\n\u001b[1;32m     30\u001b[0m \u001b[0;32melse\u001b[0m\u001b[0;34m:\u001b[0m\u001b[0;34m\u001b[0m\u001b[0m\n",
      "\u001b[0;32m/Users/apembrok/miniconda2/lib/python2.7/site-packages/CCMC.py\u001b[0m in \u001b[0;36mswig_import_helper\u001b[0;34m()\u001b[0m\n\u001b[1;32m     22\u001b[0m         \u001b[0;32mif\u001b[0m \u001b[0mfp\u001b[0m \u001b[0;32mis\u001b[0m \u001b[0;32mnot\u001b[0m \u001b[0mNone\u001b[0m\u001b[0;34m:\u001b[0m\u001b[0;34m\u001b[0m\u001b[0m\n\u001b[1;32m     23\u001b[0m             \u001b[0;32mtry\u001b[0m\u001b[0;34m:\u001b[0m\u001b[0;34m\u001b[0m\u001b[0m\n\u001b[0;32m---> 24\u001b[0;31m                 \u001b[0m_mod\u001b[0m \u001b[0;34m=\u001b[0m \u001b[0mimp\u001b[0m\u001b[0;34m.\u001b[0m\u001b[0mload_module\u001b[0m\u001b[0;34m(\u001b[0m\u001b[0;34m'_CCMC'\u001b[0m\u001b[0;34m,\u001b[0m \u001b[0mfp\u001b[0m\u001b[0;34m,\u001b[0m \u001b[0mpathname\u001b[0m\u001b[0;34m,\u001b[0m \u001b[0mdescription\u001b[0m\u001b[0;34m)\u001b[0m\u001b[0;34m\u001b[0m\u001b[0m\n\u001b[0m\u001b[1;32m     25\u001b[0m             \u001b[0;32mfinally\u001b[0m\u001b[0;34m:\u001b[0m\u001b[0;34m\u001b[0m\u001b[0m\n\u001b[1;32m     26\u001b[0m                 \u001b[0mfp\u001b[0m\u001b[0;34m.\u001b[0m\u001b[0mclose\u001b[0m\u001b[0;34m(\u001b[0m\u001b[0;34m)\u001b[0m\u001b[0;34m\u001b[0m\u001b[0m\n",
      "\u001b[0;31mImportError\u001b[0m: dlopen(/Users/apembrok/miniconda2/lib/python2.7/site-packages/_CCMC.so, 2): Library not loaded: @rpath/libccmc.6.0.0.1.dylib\n  Referenced from: /Users/apembrok/miniconda2/lib/python2.7/site-packages/_CCMC.so\n  Reason: image not found"
     ]
    }
   ],
   "source": [
    "import sys\n",
    "sys.path.append('/Users/apembrok/kameleon/lib/python2.7/site-packages/ccmc/')\n",
    "import CCMC"
   ]
  },
  {
   "cell_type": "markdown",
   "metadata": {},
   "source": [
    "## More Options ##\n",
    "Run the python code with -h or --help\n",
    "```\n",
    "python grid.py --help\n",
    "```\n",
    "\n",
    "The code will spit out a bunch of useful info:\n",
    "\n",
    "```\n",
    "usage: grid.py [-h] [-v] [-ginfo] [-lvar] [-vinfo var] [-vars var1 [var2 ...]]\n",
    "               [-pout positions_output_flag]\n",
    "               [-pfile /path/to/input/positions.txt] [-p px py pz]\n",
    "               [-x xmin xmax] [-y ymin ymax] [-z zmin zmax] [-res nx [ny ...]]\n",
    "               [-xint xint] [-yint yint] [-zint zint] [-order ordering]\n",
    "               [-t TRANSFORM TRANSFORM TRANSFORM] [-o path/to/output_file]\n",
    "               [-f <flags><width><.precision><length>specifier] [-d ' ']\n",
    "               [-ff fits [json ...]]\n",
    "               full/path/to/input_file.cdf\n",
    "\n",
    "Interpolates variables onto grid.\n",
    "\n",
    "positional arguments:\n",
    "  full/path/to/input_file.cdf\n",
    "                        kameleon-compatible file\n",
    "\n",
    "optional arguments:\n",
    "  -h, --help            show this help message and exit\n",
    "  -v, --verbose         verbosity of output\n",
    "  -ginfo, --global-info\n",
    "                        print global attributes\n",
    "\n",
    "variable options:\n",
    "  List and interrogate variables. Not all variables will have interpolator\n",
    "  support.\n",
    "\n",
    "  -lvar, --list-vars    list variables in the file (use -v to print all\n",
    "                        variable attributes)\n",
    "  -vinfo var, --variable-info var\n",
    "                        print attributes for given variable\n",
    "  -vars var1 [var2 ...], --variables var1 [var2 ...]\n",
    "                        list of variables to be interpolated\n",
    "  -pout positions_output_flag, --positions_out_flag positions_output_flag\n",
    "                        pass interpolating positions to output\n",
    "\n",
    "input positions file options:\n",
    "  File containing positions for interpolation\n",
    "\n",
    "  -pfile /path/to/input/positions.txt, --positions_file /path/to/input/positions.txt\n",
    "                        file containing column positions x, y, z. Optional\n",
    "                        separators: ' ' (default), <tab>, ','\n",
    "\n",
    "point options:\n",
    "  interpolation options for a single point\n",
    "\n",
    "  -p px py pz, --point px py pz\n",
    "                        point at which to interpolate variables\n",
    "\n",
    "grid options:\n",
    "  interpolation options for a grid of points\n",
    "\n",
    "  -x xmin xmax, --x-range xmin xmax\n",
    "                        range of x\n",
    "  -y ymin ymax, --y-range ymin ymax\n",
    "                        range of y\n",
    "  -z zmin zmax, --z-range zmin zmax\n",
    "                        range of z\n",
    "  -res nx [ny ...], --resolution nx [ny ...]\n",
    "                        resolution of the grid along each axis\n",
    "  -xint xint, --x-intercept xint\n",
    "                        fixes x for line or plane (ignores x-range)\n",
    "  -yint yint, --y-intercept yint\n",
    "                        fixes y for line or plane\n",
    "  -zint zint, --z-intercept zint\n",
    "                        fixes z for line or plane\n",
    "  -order ordering, --ordering ordering\n",
    "                        sets ordering of output arrays. options: 'C' (default\n",
    "                        - C-style row major) or 'F' (FORTRAN-style column\n",
    "                        major)\n",
    "  -t TRANSFORM TRANSFORM TRANSFORM, --transform TRANSFORM TRANSFORM TRANSFORM\n",
    "                        transformation matrix to apply to grid before\n",
    "                        interpolating (not implemented yet)\n",
    "\n",
    "ouput options:\n",
    "  where to store results of interpolation\n",
    "\n",
    "  -o path/to/output_file, --output_file path/to/output_file\n",
    "                        output file name and location\n",
    "  -f <flags><width><.precision><length>specifier, --format <flags><width><.precision><length>specifier\n",
    "                        c-sytle format of output variables (e.g. 12.3f)\n",
    "  -d ' ', --delimiter ' '\n",
    "                        delimiter for ascii output (default is ' ')\n",
    "  -ff fits [json ...], --file_format fits [json ...]\n",
    "                        File format for output. default: 'txt' for ASCII. Use\n",
    "                        'fits' for binary IDL fits file (requires astropy), or\n",
    "                        'json'\n",
    "```"
   ]
  },
  {
   "cell_type": "code",
   "execution_count": null,
   "metadata": {
    "collapsed": true
   },
   "outputs": [],
   "source": []
  }
 ],
 "metadata": {
  "kernelspec": {
   "display_name": "Python 2",
   "language": "python",
   "name": "python2"
  },
  "language_info": {
   "codemirror_mode": {
    "name": "ipython",
    "version": 2
   },
   "file_extension": ".py",
   "mimetype": "text/x-python",
   "name": "python",
   "nbconvert_exporter": "python",
   "pygments_lexer": "ipython2",
   "version": "2.7.11"
  }
 },
 "nbformat": 4,
 "nbformat_minor": 0
}
