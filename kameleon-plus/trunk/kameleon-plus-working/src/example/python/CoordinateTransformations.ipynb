{
 "cells": [
  {
   "cell_type": "markdown",
   "metadata": {},
   "source": [
    "# Coordinate Transformations\n",
    "\n",
    "Kameleon now allows users to work in their preferred coordinate system without requiring intimate knowledge of the underlying models. This document gives some examples illustrating the new capabilities, primarily using the kameleon python API. "
   ]
  },
  {
   "cell_type": "markdown",
   "metadata": {},
   "source": [
    "## Setup\n",
    "\n",
    "Make sure the _CCMC module is compiled and placed in <kameleon>lib/ccmc/python/CCMC. Detailed instructions may be found [here](https://github.com/ccmc/ccmc-software/blob/Coordinate_Transformations/kameleon-plus/trunk/kameleon-plus-working/Kameleon-Anaconda.ipynb) (anaconda users) and [here](http://ccmc.gsfc.nasa.gov/downloads/kameleon_instructions/html/Quick_start.html#quick-start) (main Kameleon site)."
   ]
  },
  {
   "cell_type": "markdown",
   "metadata": {},
   "source": [
    "## Load the ccmc python api into a python environment\n",
    "Once compiled, replace the path variable with your /path/to/lib/ccmc/python/CCMC/"
   ]
  },
  {
   "cell_type": "code",
   "execution_count": 3,
   "metadata": {
    "collapsed": true
   },
   "outputs": [],
   "source": [
    "path = '/Users/apembrok/git/ccmc/ccmc-software/kameleon-plus/trunk/kameleon-plus-working/lib/ccmc/python/CCMC/'\n",
    "import sys\n",
    "sys.path.append(path)\n",
    "import _CCMC as ccmc"
   ]
  },
  {
   "cell_type": "markdown",
   "metadata": {},
   "source": [
    "## Choose a kameleon-compatible file to work with\n",
    "Kameleon-compatible model files may be obtained through our [Runs-on-Request](http://ccmc.gsfc.nasa.gov/requests/requests.php) system, by searching the database or requesting a run. Requested model output will be automatically converted to a format the CCMC library understands."
   ]
  },
  {
   "cell_type": "code",
   "execution_count": 5,
   "metadata": {
    "collapsed": true
   },
   "outputs": [],
   "source": [
    "filename = '/Users/apembrok/Work/New_Horizons/nh_mhd/3D_CDF/nh3d_mhd.enlil.0348.cdf' #sample enlil"
   ]
  },
  {
   "cell_type": "markdown",
   "metadata": {},
   "source": [
    "## Create a kameleon object and interrogate the file\n",
    "Kameleon objects allow access to model attributes without needing to know the particular structure of a given model.\n",
    "### Global attributes"
   ]
  },
  {
   "cell_type": "code",
   "execution_count": 10,
   "metadata": {
    "collapsed": false,
    "scrolled": true
   },
   "outputs": [
    {
     "name": "stdout",
     "output_type": "stream",
     "text": [
      "model_type STRING: model_type: Heliosphere\n",
      "grid_system_count STRING: grid_system_count: 1\n",
      "model_name STRING: model_name: enlil\n",
      "output_type STRING: output_type: Heliosphere\n",
      "grid_system_1 STRING: grid_system_1: [r,theta,phi]\n",
      "grid_1_type STRING: grid_1_type: HNM\n",
      "run_type STRING: run_type: stationary_Solar_Wind\n",
      "standard_grid_target STRING: standard_grid_target: HNM\n",
      "original_output_file_name STRING: original_output_file_name: /tim.0348.nc\n",
      "run_registration_number STRING: run_registration_number: nh3d_mhd\n",
      "terms_of_usage STRING: terms_of_usage: ***For tracking purposes of our government sponsors, we ask that you notify the CCMC \n",
      "whenever you use CCMC results in scientific publications or presentations: ccmc@ccmc.gsfc.nasa.gov\n",
      "tim_type STRING: tim_type: TIM\n",
      "tim_title STRING: tim_title: Values at the given time level\n",
      "tim_program STRING: tim_program: enlil\n",
      "tim_version STRING: tim_version: 2.8\n",
      "tim_project STRING: tim_project: nh3d\n",
      "tim_code STRING: tim_code: reg40low1.256-mcp1umn1cd-1\n",
      "tim_model STRING: tim_model: mhd ethe splitted upwind llf minmod nototh difb\n",
      "tim_geometry STRING: tim_geometry: spherical\n",
      "tim_grid STRING: tim_grid: X1=0.1-40.1/uniform X2=50-130/uniform X3=0-360/uniform\n",
      "tim_coordinates STRING: tim_coordinates: HEEQ+180\n",
      "tim_rotation STRING: tim_rotation: sidereal\n",
      "tim_case STRING: tim_case: reg40low1.dtb-a6b1r-donki500cme6-sa1.20150601\n",
      "tim_cordata STRING: tim_cordata: wsadu\n",
      "tim_observatory STRING: tim_observatory: gongb\n",
      "tim_corona STRING: tim_corona: WSA_V2.2\n",
      "tim_crpos STRING: tim_crpos: 2164_219\n",
      "tim_shift_deg FLOAT: : 0\n",
      "tim_boundary STRING: tim_boundary: LLVV=3./1./700./0. RRtilt=25./0./0. NTxcld=4./1./1. NTrcav=1./4./0.\n",
      "tim_run STRING: tim_run: reg40low1.dtb-a6b1r-donki500cme6-sa1.256-mcp1umn1cd-1.g53q5.20150601\n",
      "tim_parameters STRING: tim_parameters: g=1.6666667 q=0.05/1 xa=0.05 rot=sidereal cfl=0.4 difb=0.2/\n",
      "tim_boundary_old STRING: tim_boundary_old: B=350./4./0./1 D=125./2. T=1.5/0 V=700./0./75./200. S=9. A=0.05\n",
      "tim_obsdate_mjd FLOAT: : 0\n",
      "tim_obsdate_cal STRING: tim_obsdate_cal: null\n",
      "tim_crstart_mjd FLOAT: : 0\n",
      "tim_crstart_cal STRING: tim_crstart_cal: 2015-05-21T09:13:14\n",
      "tim_rundate_mjd FLOAT: : 0\n",
      "tim_rundate_cal STRING: tim_rundate_cal: 2015-06-01\n",
      "tim_rbnd FLOAT: : 0\n",
      "tim_gamma STRING: : \n",
      "tim_xalpha STRING: : \n",
      "tim_mevo INT: tim_mevo: 71029\n",
      "tim_mfld INT: tim_mfld: 0\n",
      "tim_mslc INT: tim_mslc: 0\n",
      "tim_mtim INT: tim_mtim: 349\n",
      "tim_creation STRING: tim_creation: 2015-07-08T18:41:34\n",
      "grid_system_1_dimension_1_size INT: grid_system_1_dimension_1_size: 6400\n",
      "grid_system_1_dimension_2_size INT: grid_system_1_dimension_2_size: 20\n",
      "grid_system_1_dimension_3_size INT: grid_system_1_dimension_3_size: 90\n",
      "grid_system_1_number_of_dimensions INT: grid_system_1_number_of_dimensions: 3\n",
      "time_physical_time FLOAT: time_physical_time: 3758578.5\n",
      "time_physical_time_step FLOAT: time_physical_time_step: 274.08963\n",
      "time_numerical_time_step INT: time_numerical_time_step: 71028\n",
      "Conversion Time STRING: Conversion Time: 2015/07/09 16:37:34\n"
     ]
    }
   ],
   "source": [
    "kameleon = ccmc.Kameleon()\n",
    "kameleon.open(filename)\n",
    "\n",
    "for i in range(kameleon.getNumberOfGlobalAttributes()):\n",
    "    gname = kameleon.getGlobalAttributeName(i)\n",
    "    gattr = kameleon.getGlobalAttribute(gname)\n",
    "    if gname != 'README':\n",
    "        print gname, gattr.toString()"
   ]
  },
  {
   "cell_type": "markdown",
   "metadata": {},
   "source": [
    "### Viewing variable attributes"
   ]
  },
  {
   "cell_type": "code",
   "execution_count": 9,
   "metadata": {
    "collapsed": false
   },
   "outputs": [
    {
     "name": "stdout",
     "output_type": "stream",
     "text": [
      "r \t15427500032.0 \t5.99849225421e+12 m m\n",
      "theta \t0.907571196556 \t2.23402142525 radian radian\n",
      "phi \t0.0349065847695 \t6.24827861786 radian radian\n",
      "rho \t5.06677902223e-26 \t1.75479584072e-18 kg/m3 kg/m3\n",
      "T \t121.367195129 \t1424361.375 K \n",
      "ur \t250993.953125 \t717503.3125 km/s m/s\n",
      "utheta \t-29017.0996094 \t73542.9765625 km/s m/s\n",
      "uphi \t-68833.5078125 \t39320.1835938 km/s m/s\n",
      "br \t-1.32109281847e-10 \t3.1329065564e-07 nT T\n",
      "btheta \t-3.10669090453e-09 \t3.30375415913e-09 nT T\n",
      "bphi \t-5.49196386146e-08 \t1.08497091519e-11 nT T\n",
      "dp \t0.0 \t0.00549638364464 kg/m^3 kg/m^3\n",
      "bp \t-0.952782809734 \t0.954018414021 1000000000000.0 1000000000000.0\n",
      "b1r \t-3.1329065564e-07 \t1.32109281847e-10 nT nT\n",
      "b1theta \t-3.30375415913e-09 \t3.10669090453e-09 nT nT\n",
      "b1phi \t-1.08497091519e-11 \t5.49196386146e-08 nT nT\n"
     ]
    }
   ],
   "source": [
    "for i in range(kameleon.getNumberOfVariables()):\n",
    "    varname  = kameleon.getVariableName(i)\n",
    "    min_attr = kameleon.getVariableAttribute(varname, 'actual_min').getAttributeFloat()\n",
    "    max_attr = kameleon.getVariableAttribute(varname, 'actual_max').getAttributeFloat()\n",
    "    units = kameleon.getVisUnit(varname)\n",
    "    units2 = kameleon.getNativeUnit(varname)\n",
    "    print varname, '\\t', min_attr,'\\t', max_attr, units, units2"
   ]
  },
  {
   "cell_type": "markdown",
   "metadata": {},
   "source": [
    "### Loading variables\n",
    "Usually you will need to load the variables you are interested in prior to interpolation. There are two ways to confirm if a variable exists:\n",
    "\n",
    "1. the doesVariableExist method\n",
    "2. return value of getVariableID"
   ]
  },
  {
   "cell_type": "code",
   "execution_count": 23,
   "metadata": {
    "collapsed": false
   },
   "outputs": [
    {
     "name": "stdout",
     "output_type": "stream",
     "text": [
      "variable br exists, loading\n"
     ]
    }
   ],
   "source": [
    "# Enlil only stores br,btheta,bphi\n",
    "if kameleon.doesVariableExist('bx'): \n",
    "    print 'bx exists!?!?'\n",
    "    \n",
    "br_id = kameleon.getVariableID('br')\n",
    "if br_id != -1:\n",
    "    print 'variable br exists, loading'\n",
    "    kameleon.loadVariable('br')"
   ]
  },
  {
   "cell_type": "markdown",
   "metadata": {},
   "source": [
    "One can also load multiple components of vector variables in one call"
   ]
  },
  {
   "cell_type": "code",
   "execution_count": 29,
   "metadata": {
    "collapsed": false
   },
   "outputs": [
    {
     "name": "stdout",
     "output_type": "stream",
     "text": [
      "non-existent_variable should not be loaded\n"
     ]
    }
   ],
   "source": [
    "kameleon.loadVectorVariable('b') #automatically loads br,btheta,bphi\n",
    "kameleon.loadVariable('p')\n",
    "kameleon.loadVariable('rho') \n",
    "\n",
    "#Note: a bug causes loadVariable to always return true\n",
    "if kameleon.loadVariable('non-existent_variable'):\n",
    "    print 'non-existent_variable should not be loaded' "
   ]
  },
  {
   "cell_type": "markdown",
   "metadata": {},
   "source": [
    "# Native Interpolation\n",
    "\n",
    "Native interpolation is performed by default, meaning that kameleon assumes the user knows what coordinate system the underlying model is in and will make no effort to convert query points."
   ]
  },
  {
   "cell_type": "code",
   "execution_count": 32,
   "metadata": {
    "collapsed": false
   },
   "outputs": [
    {
     "name": "stdout",
     "output_type": "stream",
     "text": [
      "enlil uses HNM\n",
      "br (10.0, 0, 0) 0.0602672547102 nT\n"
     ]
    }
   ],
   "source": [
    "model_name = kameleon.getGlobalAttribute('model_name').getAttributeString()\n",
    "coordinates = kameleon.getGlobalAttribute('grid_1_type').getAttributeString()\n",
    "\n",
    "# HNM (radius[AU], longitude, latitude).\n",
    "print model_name, 'uses', coordinates\n",
    "\n",
    "#when intializing the interpolator with no arguments, we assume native interpolation\n",
    "interpolator = kameleon.createNewInterpolator() \n",
    "\n",
    "# The new horizons run extends past pluto.\n",
    "point = 10.0,0,0  \n",
    "if br_id != -1:\n",
    "    result = interpolator.interpolate(br_id, *point)\n",
    "    print 'br',point,result,kameleon.getVisUnit('br')"
   ]
  },
  {
   "cell_type": "markdown",
   "metadata": {},
   "source": [
    "# Preferred Coordinate Interpolation \n",
    "To enable conversion between coordinate systems, create a coordinate interpolator object.\n",
    "\n",
    "* If initialized without argument, native interpolation is assumed.\n",
    "* If initialized with the name of a registered coordinate system, user query points will be converted from that coordinate system to that of the underlying model prior to interpolation.\n",
    "* If initialized with an unregistered coordinate system, an error message will print and native interpolation will be used."
   ]
  },
  {
   "cell_type": "code",
   "execution_count": 41,
   "metadata": {
    "collapsed": true
   },
   "outputs": [],
   "source": [
    "coordinate_interpolator = kameleon.createCoordinateInterpolator() #no arguments assumes native"
   ]
  },
  {
   "cell_type": "markdown",
   "metadata": {},
   "source": [
    "## Model Epoch Time\n",
    "The model epoch time will be used to convert between coordinate systems."
   ]
  },
  {
   "cell_type": "code",
   "execution_count": 42,
   "metadata": {
    "collapsed": false
   },
   "outputs": [
    {
     "name": "stdout",
     "output_type": "stream",
     "text": [
      "enlil epoch time: 489230172 seconds\n"
     ]
    }
   ],
   "source": [
    "print model_name, 'epoch time:', coordinate_interpolator.getEphemTime(), 'seconds'"
   ]
  },
  {
   "cell_type": "markdown",
   "metadata": {},
   "source": [
    "one may also change the epoch time if it is not set properly in the file:"
   ]
  },
  {
   "cell_type": "code",
   "execution_count": 43,
   "metadata": {
    "collapsed": false
   },
   "outputs": [
    {
     "name": "stdout",
     "output_type": "stream",
     "text": [
      "enlil epoch time: 200 seconds\n"
     ]
    }
   ],
   "source": [
    "coordinate_interpolator.setEphemTime(200)\n",
    "print model_name, 'epoch time:', coordinate_interpolator.getEphemTime(), 'seconds'"
   ]
  },
  {
   "cell_type": "markdown",
   "metadata": {},
   "source": [
    "We can interpolate from any of the following coordinate systems:"
   ]
  },
  {
   "cell_type": "code",
   "execution_count": 86,
   "metadata": {
    "collapsed": false
   },
   "outputs": [
    {
     "name": "stdout",
     "output_type": "stream",
     "text": [
      "br SM (10, 0, 0) 7.14463281631 nT\n"
     ]
    }
   ],
   "source": [
    "coordinate_interpolator = kameleon.createCoordinateInterpolator(\"SM\")\n",
    "var = 'br' #slightly slower, but interpolator may be called with string instead of variable ID\n",
    "print var,  coordinate_interpolator.getPreferredCoordinates(), point, \n",
    "print coordinate_interpolator.interpolate(var, point[0],point[1],point[2]), \n",
    "print kameleon.getVisUnit(var)"
   ]
  },
  {
   "cell_type": "markdown",
   "metadata": {},
   "source": [
    "If you want to check the conversion to model coordinates, you can use the convertCoordinates method"
   ]
  },
  {
   "cell_type": "code",
   "execution_count": 87,
   "metadata": {
    "collapsed": false
   },
   "outputs": [
    {
     "name": "stdout",
     "output_type": "stream",
     "text": [
      "HNM 1.01669931412 -3.13182067871 360.0\n"
     ]
    }
   ],
   "source": [
    "coordinate_interpolator.setPreferredCoordinates(\"SM\")\n",
    "point = 10, 0, 0 # SM cartesian [Re]\n",
    "\n",
    "query_point = ccmc.Position()\n",
    "query_point.c0, query_point.c1, query_point.c2 = point\n",
    "\n",
    "model_point = ccmc.Position()\n",
    "coordinate_interpolator.convertCoordinates(query_point,model_point)\n",
    "print coordinate_interpolator.get_model_coords(), \n",
    "print model_point.c0, model_point.c1, model_point.c2 # HNM R[AU], latitude [deg], longitude [deg]"
   ]
  },
  {
   "cell_type": "markdown",
   "metadata": {},
   "source": [
    "## Available transformations\n",
    "Coordinate transformations may be performed from the following cartesian geocentric and heliocentric coordinate systems. Note that because of the length scales, it is helpful to think of geocenctric coordinates in R_E while Heliocentric are in km."
   ]
  },
  {
   "cell_type": "code",
   "execution_count": 153,
   "metadata": {
    "collapsed": true
   },
   "outputs": [],
   "source": [
    "geo_coords = [  \"J2000\", #geocentric are in R_E\n",
    "                \"GEI\",\n",
    "                \"GEO\",\n",
    "                \"MAG\",\n",
    "                \"GSE\",\n",
    "                \"GSM\",\n",
    "                \"SM\",\n",
    "                \"RTN\",\n",
    "                \"GSEQ\",]\n",
    "\n",
    "helio_coord = [ \"HEE\", #heliocentric are in km\n",
    "                \"HAE\",\n",
    "                \"HEEQ\"] "
   ]
  },
  {
   "cell_type": "code",
   "execution_count": 154,
   "metadata": {
    "collapsed": true
   },
   "outputs": [],
   "source": [
    "from pandas import DataFrame as df\n",
    "import numpy as np\n",
    "from collections import defaultdict\n",
    "\n",
    "def get_coordinate_table(kameleon, coordinate_list, variable_names, point):\n",
    "    if type(variable_names) != list: \n",
    "        variable_names = [variable_names]\n",
    "    query_point = ccmc.Position()\n",
    "    query_point.c0, query_point.c1, query_point.c2 = point\n",
    "    coordinate_interpolator = kameleon.createCoordinateInterpolator()\n",
    "    model_coordinates = coordinate_interpolator.get_model_coords()\n",
    "    model_coordinates = str(point) + \" ---> \" + model_coordinates + '[AU, lat, lon]'\n",
    "    missing_value = kameleon.getMissingValue()\n",
    "    model_positions = []\n",
    "    results = []\n",
    "    table = defaultdict(list)\n",
    "    for coord in coordinate_list:\n",
    "        coordinate_interpolator.setPreferredCoordinates(coord)\n",
    "        coordinate_interpolator.convertCoordinates(query_point,model_point)\n",
    "        table[model_coordinates].append(np.array([model_point.c0, model_point.c1, model_point.c2]))\n",
    "        for variable_name in variable_names:\n",
    "            column_name = variable_name + '[' + kameleon.getVisUnit(variable_name) + ']'\n",
    "            result = coordinate_interpolator.interpolate(variable_name, *point)\n",
    "            if result == missing_value: \n",
    "                table[column_name].append(np.NAN)\n",
    "            else:\n",
    "                table[column_name].append(result)\n",
    "    table = df(table) #make a pretty pandas table\n",
    "    table.index = coordinate_list\n",
    "    return table"
   ]
  },
  {
   "cell_type": "markdown",
   "metadata": {},
   "source": [
    "The above code makes a nice looking pandas data table from results of the interpolation in each of the available coordinate systems. Here are the results for geocentric coordinates."
   ]
  },
  {
   "cell_type": "code",
   "execution_count": 155,
   "metadata": {
    "collapsed": false,
    "scrolled": true
   },
   "outputs": [
    {
     "data": {
      "text/html": [
       "<div>\n",
       "<table border=\"1\" class=\"dataframe\">\n",
       "  <thead>\n",
       "    <tr style=\"text-align: right;\">\n",
       "      <th></th>\n",
       "      <th>(10, 0, 0) ---&gt; HNM[AU, lat, lon]</th>\n",
       "      <th>br[nT]</th>\n",
       "      <th>p[nPa]</th>\n",
       "      <th>rho[kg/m3]</th>\n",
       "    </tr>\n",
       "  </thead>\n",
       "  <tbody>\n",
       "    <tr>\n",
       "      <th>J2000</th>\n",
       "      <td>[1.01669943333, -3.13182067871, 3.67431243831e...</td>\n",
       "      <td>7.144619</td>\n",
       "      <td>896249.1250</td>\n",
       "      <td>1.830797e-17</td>\n",
       "    </tr>\n",
       "    <tr>\n",
       "      <th>GEI</th>\n",
       "      <td>[1.01669943333, -3.13182067871, 3.67120128431e...</td>\n",
       "      <td>7.144619</td>\n",
       "      <td>896249.1250</td>\n",
       "      <td>1.830797e-17</td>\n",
       "    </tr>\n",
       "    <tr>\n",
       "      <th>GEO</th>\n",
       "      <td>[1.01669943333, -3.13182830811, 360.0]</td>\n",
       "      <td>7.144630</td>\n",
       "      <td>896253.7500</td>\n",
       "      <td>1.830796e-17</td>\n",
       "    </tr>\n",
       "    <tr>\n",
       "      <th>MAG</th>\n",
       "      <td>[1.01669943333, -3.13182067871, 9.96583594315e...</td>\n",
       "      <td>7.144619</td>\n",
       "      <td>896249.1250</td>\n",
       "      <td>1.830797e-17</td>\n",
       "    </tr>\n",
       "    <tr>\n",
       "      <th>GSE</th>\n",
       "      <td>[1.01669931412, -3.13182067871, 360.0]</td>\n",
       "      <td>7.144633</td>\n",
       "      <td>896250.1250</td>\n",
       "      <td>1.830796e-17</td>\n",
       "    </tr>\n",
       "    <tr>\n",
       "      <th>GSM</th>\n",
       "      <td>[1.01669931412, -3.13182067871, 360.0]</td>\n",
       "      <td>7.144633</td>\n",
       "      <td>896241.0625</td>\n",
       "      <td>1.830796e-17</td>\n",
       "    </tr>\n",
       "    <tr>\n",
       "      <th>SM</th>\n",
       "      <td>[1.01669931412, -3.13182067871, 360.0]</td>\n",
       "      <td>7.144633</td>\n",
       "      <td>896250.7500</td>\n",
       "      <td>1.830796e-17</td>\n",
       "    </tr>\n",
       "    <tr>\n",
       "      <th>RTN</th>\n",
       "      <td>[1.01669943333, -3.13182067871, 360.0]</td>\n",
       "      <td>7.144630</td>\n",
       "      <td>896250.1250</td>\n",
       "      <td>1.830796e-17</td>\n",
       "    </tr>\n",
       "    <tr>\n",
       "      <th>GSEQ</th>\n",
       "      <td>[1.01669931412, -3.13182067871, 360.0]</td>\n",
       "      <td>7.144633</td>\n",
       "      <td>896250.8750</td>\n",
       "      <td>1.830796e-17</td>\n",
       "    </tr>\n",
       "  </tbody>\n",
       "</table>\n",
       "</div>"
      ],
      "text/plain": [
       "                       (10, 0, 0) ---> HNM[AU, lat, lon]    br[nT]  \\\n",
       "J2000  [1.01669943333, -3.13182067871, 3.67431243831e...  7.144619   \n",
       "GEI    [1.01669943333, -3.13182067871, 3.67120128431e...  7.144619   \n",
       "GEO               [1.01669943333, -3.13182830811, 360.0]  7.144630   \n",
       "MAG    [1.01669943333, -3.13182067871, 9.96583594315e...  7.144619   \n",
       "GSE               [1.01669931412, -3.13182067871, 360.0]  7.144633   \n",
       "GSM               [1.01669931412, -3.13182067871, 360.0]  7.144633   \n",
       "SM                [1.01669931412, -3.13182067871, 360.0]  7.144633   \n",
       "RTN               [1.01669943333, -3.13182067871, 360.0]  7.144630   \n",
       "GSEQ              [1.01669931412, -3.13182067871, 360.0]  7.144633   \n",
       "\n",
       "            p[nPa]    rho[kg/m3]  \n",
       "J2000  896249.1250  1.830797e-17  \n",
       "GEI    896249.1250  1.830797e-17  \n",
       "GEO    896253.7500  1.830796e-17  \n",
       "MAG    896249.1250  1.830797e-17  \n",
       "GSE    896250.1250  1.830796e-17  \n",
       "GSM    896241.0625  1.830796e-17  \n",
       "SM     896250.7500  1.830796e-17  \n",
       "RTN    896250.1250  1.830796e-17  \n",
       "GSEQ   896250.8750  1.830796e-17  "
      ]
     },
     "execution_count": 155,
     "metadata": {},
     "output_type": "execute_result"
    }
   ],
   "source": [
    "geo_table = get_coordinate_table(kameleon,geo_coords,['br', 'rho', 'p'], (10, 0, 0))\n",
    "geo_table"
   ]
  },
  {
   "cell_type": "markdown",
   "metadata": {},
   "source": [
    "The results are not so senstive to the change in coordinates because ENLIL's scale is much larger than the differences in geocentric coordinate systems. We see larger changes for heliocentric coordinate interpolations:"
   ]
  },
  {
   "cell_type": "code",
   "execution_count": 156,
   "metadata": {
    "collapsed": false
   },
   "outputs": [
    {
     "data": {
      "text/html": [
       "<div>\n",
       "<table border=\"1\" class=\"dataframe\">\n",
       "  <thead>\n",
       "    <tr style=\"text-align: right;\">\n",
       "      <th></th>\n",
       "      <th>(150000000.0, 0, 0) ---&gt; HNM[AU, lat, lon]</th>\n",
       "      <th>br[nT]</th>\n",
       "      <th>p[nPa]</th>\n",
       "      <th>rho[kg/m3]</th>\n",
       "    </tr>\n",
       "  </thead>\n",
       "  <tbody>\n",
       "    <tr>\n",
       "      <th>HEE</th>\n",
       "      <td>[1.00268721581, -3.13182067871, 360.0]</td>\n",
       "      <td>7.523039</td>\n",
       "      <td>1.208926e+24</td>\n",
       "      <td>1.831418e-17</td>\n",
       "    </tr>\n",
       "    <tr>\n",
       "      <th>HAE</th>\n",
       "      <td>[1.00268721581, -7.03282165527, 78.6580734253]</td>\n",
       "      <td>2.221460</td>\n",
       "      <td>1.208926e+24</td>\n",
       "      <td>7.569455e-18</td>\n",
       "    </tr>\n",
       "    <tr>\n",
       "      <th>HEEQ</th>\n",
       "      <td>[1.00268721581, 0.0, 0.0]</td>\n",
       "      <td>7.432927</td>\n",
       "      <td>1.208926e+24</td>\n",
       "      <td>1.883335e-17</td>\n",
       "    </tr>\n",
       "  </tbody>\n",
       "</table>\n",
       "</div>"
      ],
      "text/plain": [
       "          (150000000.0, 0, 0) ---> HNM[AU, lat, lon]    br[nT]        p[nPa]  \\\n",
       "HEE           [1.00268721581, -3.13182067871, 360.0]  7.523039  1.208926e+24   \n",
       "HAE   [1.00268721581, -7.03282165527, 78.6580734253]  2.221460  1.208926e+24   \n",
       "HEEQ                       [1.00268721581, 0.0, 0.0]  7.432927  1.208926e+24   \n",
       "\n",
       "        rho[kg/m3]  \n",
       "HEE   1.831418e-17  \n",
       "HAE   7.569455e-18  \n",
       "HEEQ  1.883335e-17  "
      ]
     },
     "execution_count": 156,
     "metadata": {},
     "output_type": "execute_result"
    }
   ],
   "source": [
    "helio_table = get_coordinate_table(kameleon,helio_coord,['br', 'rho', 'p'], (1.5e8, 0, 0))\n",
    "helio_table"
   ]
  },
  {
   "cell_type": "code",
   "execution_count": null,
   "metadata": {
    "collapsed": true
   },
   "outputs": [],
   "source": []
  }
 ],
 "metadata": {
  "kernelspec": {
   "display_name": "Python 2",
   "language": "python",
   "name": "python2"
  },
  "language_info": {
   "codemirror_mode": {
    "name": "ipython",
    "version": 2
   },
   "file_extension": ".py",
   "mimetype": "text/x-python",
   "name": "python",
   "nbconvert_exporter": "python",
   "pygments_lexer": "ipython2",
   "version": "2.7.11"
  }
 },
 "nbformat": 4,
 "nbformat_minor": 0
}
