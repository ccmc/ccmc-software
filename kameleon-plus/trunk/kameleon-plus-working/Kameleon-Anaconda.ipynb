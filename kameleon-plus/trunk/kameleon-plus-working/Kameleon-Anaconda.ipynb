{
 "cells": [
  {
   "cell_type": "markdown",
   "metadata": {},
   "source": [
    "## Installing requirements with anaconda\n",
    "\n",
    "Download and install anaconda (for a lighter version install [miniconda](http://conda.pydata.org/docs/install/quick.html#miniconda-quick-install-requirements))\n",
    "\n",
    "Then, open a terminal and type \n",
    "\n",
    "    conda install boost cmake swig gcc hdf5\n",
    "    conda install -c meznom boost-python \n",
    " \n",
    "Note: meznon's boost-python supports unix and osx users only\n",
    "\n",
    "        \n",
    "### getting cdf3.5 ##\n",
    "\n",
    "Download and install cdf 3.5 from [NASA](http://cdaweb.gsfc.nasa.gov/pub/software/cdf/dist/cdf35_0_2/)\n",
    "\n",
    "### getting HDF5 ##\n",
    "Download and install HDF 5 from [HDFGroup](http://www.hdfgroup.org/HDF5/release/obtain5.html)\n",
    "\n",
    "### searching for packages ##\n",
    "Install anaconda command line client:\n",
    "```\n",
    "conda install anaconda-client\n",
    "```\n",
    "search for package:\n",
    "```\n",
    "anaconda search -t conda <packagename>\n",
    "```"
   ]
  },
  {
   "cell_type": "markdown",
   "metadata": {},
   "source": [
    "# Building Kameleon-plus from source\n",
    "\n",
    "On Yosemite, I've had success building Kameleon with these flags:\n",
    "\n",
    "* -DCMAKE_CXX_FLAGS=\"-std=c++11\" \n",
    "* -DCMAKE_C_COMPILER=/usr/bin/clang \n",
    "* -DCMAKE_CXX_COMPILER=/usr/bin/clang++ \n",
    "* -DCMAKE_MACOSX_RPATH=ON \n",
    "* -DBOOST_LIBRARYDIR=/Users/apembrok/anaconda_boost_install/lib \n",
    "* -DBOOST_INCLUDEDIR=/Users/apembrok/anaconda_boost_install/include \n",
    "* -DBoost_NO_SYSTEM_PATHS=ON -DPYTHON_LIBRARY=/Users/apembrok/anaconda/lib/libpython2.7.dylib \n",
    "* -DPYTHON_INCLUDE_DIR=/Users/apembrok/anaconda/include/python2.7/ \n",
    "* -DBUILD_HDF5=OFF .."
   ]
  },
  {
   "cell_type": "code",
   "execution_count": 244,
   "metadata": {
    "collapsed": false
   },
   "outputs": [
    {
     "name": "stdout",
     "output_type": "stream",
     "text": [
      "/Users/apembrok/git/ccmc/ccmc-software/kameleon-plus/trunk/kameleon-plus-working\n"
     ]
    }
   ],
   "source": [
    "cd ~/git/ccmc/ccmc-software/kameleon-plus/trunk/kameleon-plus-working/"
   ]
  },
  {
   "cell_type": "code",
   "execution_count": 245,
   "metadata": {
    "collapsed": false
   },
   "outputs": [],
   "source": [
    "!rm -rf build\n",
    "!mkdir build"
   ]
  },
  {
   "cell_type": "code",
   "execution_count": 246,
   "metadata": {
    "collapsed": false
   },
   "outputs": [
    {
     "name": "stdout",
     "output_type": "stream",
     "text": [
      "/Users/apembrok/git/ccmc/ccmc-software/kameleon-plus/trunk/kameleon-plus-working/build\n"
     ]
    }
   ],
   "source": [
    "cd build"
   ]
  },
  {
   "cell_type": "code",
   "execution_count": 247,
   "metadata": {
    "collapsed": false,
    "scrolled": true
   },
   "outputs": [
    {
     "name": "stdout",
     "output_type": "stream",
     "text": [
      "-- The C compiler identification is AppleClang 7.0.2.7000181\n",
      "-- The CXX compiler identification is AppleClang 7.0.2.7000181\n",
      "-- Check for working C compiler: /usr/bin/clang\n",
      "-- Check for working C compiler: /usr/bin/clang -- works\n",
      "-- Detecting C compiler ABI info\n",
      "-- Detecting C compiler ABI info - done\n",
      "-- Detecting C compile features\n",
      "-- Detecting C compile features - done\n",
      "-- Check for working CXX compiler: /usr/bin/clang++\n",
      "-- Check for working CXX compiler: /usr/bin/clang++ -- works\n",
      "-- Detecting CXX compiler ABI info\n",
      "-- Detecting CXX compiler ABI info - done\n",
      "-- Detecting CXX compile features\n",
      "-- Detecting CXX compile features - done\n",
      "\n",
      "============= Top level CMakeLists.txt ==============\n",
      "--  Kameleon-plus 6.0.0.1 build for Darwin-14.5.0\n",
      "-- Found PythonInterp: /Users/apembrok/anaconda/bin/python2.7 (found suitable version \"2.7.11\", minimum required is \"2.7\") \n",
      "-- Found PythonLibs: /Users/apembrok/anaconda/lib/libpython2.7.dylib (found suitable version \"2.7.11\", minimum required is \"2.7\") \n",
      "--  Python Interpreter:/Users/apembrok/anaconda/bin/python2.7\n",
      "Getting BOOST....\n",
      "-- Boost version: 1.57.0\n",
      "-- Found the following Boost libraries:\n",
      "--   thread\n",
      "--   program_options\n",
      "--   filesystem\n",
      "--   system\n",
      "--   python\n",
      "--  BOOST_ROOT=\n",
      "--  Boost includes: /Users/apembrok/anaconda_boost_install/include\n",
      "--  Boost library directory: /Users/apembrok/anaconda_boost_install/lib\n",
      "--  Link boost: /Users/apembrok/anaconda_boost_install/lib/libboost_thread.dylib/Users/apembrok/anaconda_boost_install/lib/libboost_program_options.dylib/Users/apembrok/anaconda_boost_install/lib/libboost_filesystem.dylib/Users/apembrok/anaconda_boost_install/lib/libboost_system.dylib/Users/apembrok/anaconda_boost_install/lib/libboost_python.dylib\n",
      " Will NOT build Kameleon with HDF5.\n",
      "--  Will NOT build java wrappers\n",
      "Getting CDF..\n",
      "--  retrieving shared CDF libraries\n",
      "--  Include CDF: /Applications/cdf35_0-dist/include\n",
      "--  link CDF: /Applications/cdf35_0-dist/lib/libcdf.dylib\n",
      "--  CDF Path:/Applications/cdf35_0-dist/lib\n",
      " \n",
      "============ ccmc library(src/ccmc>) ==============\n",
      "--  ignoring HDF5FileReader.cpp  HDF5FileReader.h\n",
      "--  will build SHARED ccmc library\n",
      "--  will build STATIC ccmc library\n",
      "--  ccmc library output location = /Users/apembrok/git/ccmc/ccmc-software/kameleon-plus/trunk/kameleon-plus-working/lib/ccmc/libccmc.dylib\n",
      "--  Include boost: /Users/apembrok/anaconda_boost_install/include\n",
      "--  Boost library directory: /Users/apembrok/anaconda_boost_install/lib\n",
      "--  Link boost: /Users/apembrok/anaconda_boost_install/lib/libboost_thread.dylib/Users/apembrok/anaconda_boost_install/lib/libboost_program_options.dylib/Users/apembrok/anaconda_boost_install/lib/libboost_filesystem.dylib/Users/apembrok/anaconda_boost_install/lib/libboost_system.dylib/Users/apembrok/anaconda_boost_install/lib/libboost_python.dylib\n",
      "--  Include CDF: /Applications/cdf35_0-dist/include\n",
      "--  link CDF: /Applications/cdf35_0-dist/lib/libcdf.dylib\n",
      "--  cmake framework path: \n",
      "--  Python Interpreter:/Users/apembrok/anaconda/bin/python2.7\n",
      "--  boost.python library found, creating embedded readers..\n",
      "\n",
      "=========== pyKameleon(src/ccmc/pyreader) ===========\n",
      "setting up python...\n",
      "-- Found PythonInterp: /Users/apembrok/anaconda/bin/python2.7 (found version \"2.7.11\") \n",
      "--  PYTHON_LIBRARIES:/Users/apembrok/anaconda/lib/libpython2.7.dylib\n",
      "--  PYTHON_INCLUDE_DIRS:/Users/apembrok/anaconda/include/python2.7\n",
      "--  PYTHON_INCLUDE_PATH:/Users/apembrok/anaconda/include/python2.7\n",
      "--  PYTHON_EXECUTABLE:/Users/apembrok/anaconda/bin/python2.7\n",
      "setting up boost.python\n",
      "--  Boost_LIBRARIES:/Users/apembrok/anaconda_boost_install/lib/libboost_thread.dylib/Users/apembrok/anaconda_boost_install/lib/libboost_program_options.dylib/Users/apembrok/anaconda_boost_install/lib/libboost_filesystem.dylib/Users/apembrok/anaconda_boost_install/lib/libboost_system.dylib/Users/apembrok/anaconda_boost_install/lib/libboost_python.dylib\n",
      "--  BOOST_INCLUDEDIR:/Users/apembrok/anaconda_boost_install/include\n",
      "-- Found SWIG: /Users/apembrok/anaconda/bin/swig (found version \"3.0.2\") \n",
      "--  SWIG installed. Will attempt to build python and java wrappers.\n",
      "-- Found PythonLibs: /Users/apembrok/anaconda/lib/libpython2.7.dylib (found version \"2.7.11\") \n",
      "--  PythonLibs and python executable found. Will build python wrapper.\n",
      "\n",
      "=========== python wrappers(src/ccmc/wrappers/python) ===========\n",
      " setting up python wrappers..\n",
      "--  SWIG_USE_FILE: /Users/apembrok/anaconda/share/cmake-3.3/Modules/UseSWIG.cmake\n",
      "--  Include boost directories: /Users/apembrok/anaconda_boost_install/include\n",
      "--  Include CDF: /Applications/cdf35_0-dist/include\n",
      "\n",
      "=========== c wrappers(src/ccmc/wrappers/c) ===========\n",
      "-- initializing c wrappers\n",
      "-- will build SHARED ccmc_wrapper_c library\n",
      "-- will build STATIC ccmc_wrapper_c library\n",
      "\n",
      "========== FORTRAN wrappers(src/ccmc/wrappers/fortran) ==========\n",
      "--  building fortran wrappers\n",
      "\n",
      "============ Top level CMakeLists.txt ============\n",
      "\n",
      "========== c++ examples(src/example/c++) ==========\n",
      "--  building c++ examples\n",
      "--  Include boost directories: /Users/apembrok/anaconda_boost_install/include\n",
      "--  Include CDF: /Applications/cdf35_0-dist/include\n",
      "-- Include python embedding directory: /Users/apembrok/anaconda/include/python2.7\n",
      "\n",
      "=========== c examples(src/example/c) ===========\n",
      "--  building c examples\n",
      "--  Include boost directories: /Users/apembrok/anaconda_boost_install/include\n",
      "--  Include CDF: /Applications/cdf35_0-dist/include\n",
      "\n",
      "========== fortran examples(src/example/fortran) ==========\n",
      "--  building FORTRAN examples\n",
      "-- The Fortran compiler identification is GNU 5.2.0\n",
      "-- Checking whether Fortran compiler has -isysroot\n",
      "-- Checking whether Fortran compiler has -isysroot - yes\n",
      "-- Checking whether Fortran compiler supports OSX deployment target flag\n",
      "-- Checking whether Fortran compiler supports OSX deployment target flag - yes\n",
      "-- Check for working Fortran compiler: /Users/apembrok/anaconda/bin/gfortran\n",
      "-- Check for working Fortran compiler: /Users/apembrok/anaconda/bin/gfortran  -- works\n",
      "-- Detecting Fortran compiler ABI info\n",
      "-- Detecting Fortran compiler ABI info - done\n",
      "-- Checking whether /Users/apembrok/anaconda/bin/gfortran supports Fortran 90\n",
      "-- Checking whether /Users/apembrok/anaconda/bin/gfortran supports Fortran 90 -- yes\n",
      "--  Include boost directories: /Users/apembrok/anaconda_boost_install/include\n",
      "--  Include CDF: /Applications/cdf35_0-dist/include\n",
      "\n",
      "=========== python examples(src/example/python) ===========\n",
      "--  building python examples\n",
      "--  Python example files will be installed to: /Users/apembrok/git/ccmc/ccmc-software/kameleon-plus/trunk/kameleon-plus-working/bin/examples/python\n",
      "--  Process file: /Users/apembrok/git/ccmc/ccmc-software/kameleon-plus/trunk/kameleon-plus-working/src/example/python/ARMS_test.py\n",
      "--  Process file: /Users/apembrok/git/ccmc/ccmc-software/kameleon-plus/trunk/kameleon-plus-working/src/example/python/grid.py\n",
      "--  Process file: /Users/apembrok/git/ccmc/ccmc-software/kameleon-plus/trunk/kameleon-plus-working/src/example/python/kameleon_test.py\n",
      "--  Process file: /Users/apembrok/git/ccmc/ccmc-software/kameleon-plus/trunk/kameleon-plus-working/src/example/python/pyModel_test.py\n",
      "--  Process file: /Users/apembrok/git/ccmc/ccmc-software/kameleon-plus/trunk/kameleon-plus-working/src/example/python/tracer.py\n",
      "-- Configuring done\n",
      "-- Generating done\n",
      "-- Build files have been written to: /Users/apembrok/git/ccmc/ccmc-software/kameleon-plus/trunk/kameleon-plus-working/build\n"
     ]
    }
   ],
   "source": [
    "!rm -f CMakeCache.txt\n",
    "!cmake -DCMAKE_CXX_FLAGS=\"-std=c++11\" -DCMAKE_C_COMPILER=/usr/bin/clang -DCMAKE_CXX_COMPILER=/usr/bin/clang++ -DCMAKE_MACOSX_RPATH=ON -DBOOST_LIBRARYDIR=/Users/apembrok/anaconda_boost_install/lib -DBOOST_INCLUDEDIR=/Users/apembrok/anaconda_boost_install/include -DBoost_NO_SYSTEM_PATHS=ON -DPYTHON_LIBRARY=/Users/apembrok/anaconda/lib/libpython2.7.dylib -DPYTHON_INCLUDE_DIR=/Users/apembrok/anaconda/include/python2.7/ -DBUILD_JAVA=OFF -DBUILD_HDF5=OFF .."
   ]
  },
  {
   "cell_type": "code",
   "execution_count": 248,
   "metadata": {
    "collapsed": true
   },
   "outputs": [],
   "source": [
    "!make clean"
   ]
  },
  {
   "cell_type": "markdown",
   "metadata": {},
   "source": [
    "Build ccmc python module"
   ]
  },
  {
   "cell_type": "code",
   "execution_count": 250,
   "metadata": {
    "collapsed": false
   },
   "outputs": [
    {
     "name": "stdout",
     "output_type": "stream",
     "text": [
      "[  5%] \u001b[0mBuilt target pyKameleon\u001b[0m\n",
      "\u001b[35m\u001b[1mScanning dependencies of target ccmc\u001b[0m\n",
      "[  5%] \u001b[32mBuilding CXX object src/ccmc/CMakeFiles/ccmc.dir/ENLILInterpolator.cpp.o\u001b[0m\n",
      "[  8%] \u001b[32mBuilding CXX object src/ccmc/CMakeFiles/ccmc.dir/KameleonInterpolator.cpp.o\u001b[0m\n",
      "[  8%] \u001b[32m\u001b[1mLinking CXX shared library ../../../lib/ccmc/libccmc.dylib\u001b[0m\n",
      "[ 97%] \u001b[0mBuilt target ccmc\u001b[0m\n",
      "[ 97%] \u001b[32m\u001b[1mLinking CXX shared module ../../../../../lib/ccmc/python/CCMC/_CCMC.so\u001b[0m\n",
      "[100%] \u001b[0mBuilt target _CCMC\u001b[0m\n"
     ]
    }
   ],
   "source": [
    "!make -j8 _CCMC"
   ]
  },
  {
   "cell_type": "markdown",
   "metadata": {},
   "source": [
    "## Check that new coordinate conversion methods are available"
   ]
  },
  {
   "cell_type": "code",
   "execution_count": 138,
   "metadata": {
    "collapsed": true
   },
   "outputs": [],
   "source": [
    "import sys\n",
    "sys.path.append('/Users/apembrok/git/ccmc/ccmc-software/kameleon-plus/trunk/kameleon-plus-working/lib/ccmc/python/CCMC')\n",
    "import _CCMC as ccmc"
   ]
  },
  {
   "cell_type": "code",
   "execution_count": 84,
   "metadata": {
    "collapsed": false
   },
   "outputs": [
    {
     "name": "stdout",
     "output_type": "stream",
     "text": [
      "<method 'getPreferredCoordinates' of 'CCMC.KameleonInterpolator' objects>\n",
      "<method 'setPreferredCoordinates' of 'CCMC.KameleonInterpolator' objects>\n",
      "<method 'convertCoordinates' of 'CCMC.KameleonInterpolator' objects>\n"
     ]
    }
   ],
   "source": [
    "print ccmc.KameleonInterpolator.getPreferredCoordinates\n",
    "print ccmc.KameleonInterpolator.setPreferredCoordinates\n",
    "print ccmc.KameleonInterpolator.convertCoordinates"
   ]
  },
  {
   "cell_type": "markdown",
   "metadata": {},
   "source": [
    "## Check that kameleon_prog compiles\n",
    "kameleon_prog is a simple program that interpolates a given variable onto a user's input position, assuming the user knows the coordinate system of the unerlying model."
   ]
  },
  {
   "cell_type": "code",
   "execution_count": 7,
   "metadata": {
    "collapsed": false
   },
   "outputs": [
    {
     "name": "stdout",
     "output_type": "stream",
     "text": [
      "[  5%] \u001b[0mBuilt target pyKameleon\u001b[0m\n",
      "[ 97%] \u001b[0mBuilt target ccmc\u001b[0m\n",
      "\u001b[35m\u001b[1mScanning dependencies of target kameleon_prog\u001b[0m\n",
      "[ 97%] \u001b[32mBuilding CXX object src/example/c++/CMakeFiles/kameleon_prog.dir/kameleon_prog.cpp.o\u001b[0m\n",
      "[100%] \u001b[32m\u001b[1mLinking CXX executable ../../../../bin/examples/c++/kameleon_prog\u001b[0m\n",
      "[100%] \u001b[0mBuilt target kameleon_prog\u001b[0m\n"
     ]
    }
   ],
   "source": [
    "!make -j8 kameleon_prog"
   ]
  },
  {
   "cell_type": "code",
   "execution_count": 8,
   "metadata": {
    "collapsed": false
   },
   "outputs": [
    {
     "name": "stdout",
     "output_type": "stream",
     "text": [
      "/Users/apembrok/anaconda/lib/python2.7/site-packages/matplotlib/font_manager.py:273: UserWarning: Matplotlib is building the font cache using fc-list. This may take a moment.\n",
      "  warnings.warn('Matplotlib is building the font cache using fc-list. This may take a moment.')\n",
      "main: opened file: /Users/apembrok/Work/DeVore/ARMS_Peter.ini with status: 0\n",
      "main: kameleon file was opened successfully\n",
      "starting interpolations\n",
      "value: -0.0867515\n",
      "deleting interpolator\n",
      "Kameleon::close() calling model's close\n"
     ]
    }
   ],
   "source": [
    "!../bin/examples/c++/kameleon_prog /Users/apembrok/Work/DeVore/ARMS_Peter.ini Magnetic_Field_X 1.1 0 0"
   ]
  },
  {
   "cell_type": "markdown",
   "metadata": {},
   "source": [
    "# Packaging a distribution with CPack\n",
    "\n",
    "You can distribute the kameleon binaries by running the following command in your build directory:\n",
    "\n",
    "    cpack --config CPackConfig.cmake"
   ]
  },
  {
   "cell_type": "code",
   "execution_count": 10,
   "metadata": {
    "collapsed": false
   },
   "outputs": [
    {
     "name": "stdout",
     "output_type": "stream",
     "text": [
      "CPack: Create package using TGZ\n",
      "CPack: Install projects\n",
      "CPack: - Run preinstall target for: Kameleon\n",
      "CPack: - Install project: Kameleon\n",
      "CPack: Create package\n",
      "CPack: - package: /Users/apembrok/git/ccmc/ccmc-software/kameleon-plus/trunk/kameleon-plus-working/build/CCMC.tar.gz generated.\n"
     ]
    }
   ],
   "source": [
    "!cpack --config CPackConfig.cmake"
   ]
  },
  {
   "cell_type": "markdown",
   "metadata": {},
   "source": [
    "# Errors you might see"
   ]
  },
  {
   "cell_type": "markdown",
   "metadata": {},
   "source": [
    "### Error: Could not find platform independent libraries ... No module named site\n",
    "\n",
    "If you encounter this error:\n",
    "\n",
    "    Could not find platform independent libraries <prefix>\n",
    "    Could not find platform dependent libraries <exec_prefix>\n",
    "    Consider setting $PYTHONHOME to <prefix>[:<exec_prefix>]\n",
    "    ImportError: No module named site\n",
    "    \n",
    "It may be that the compiler flags are wrong or that the wrong python executable is invoked by GeneralFileReader. Make sure cmake is passed \"-std=c++11\". Also, make sure boost is built with c++11 support: running otool on a boost library should list ```libc++.1.dylib``` (which supports c++11) instead of, say, ```libstdc++.6.dylib``` (which does not)"
   ]
  },
  {
   "cell_type": "markdown",
   "metadata": {},
   "source": [
    "### Error: Undefined symbols for architecture x86_64: \"boost::python::objects::function_object ..etc\n",
    "\n",
    "Solution: reinstall boost with clang and pointing to anaconda's python. Jump to solution [here](http://localhost:8888/notebooks/Kameleon-Anaconda.ipynb#Building-with-clang,-anaconda,-and-c++11-support)"
   ]
  },
  {
   "cell_type": "markdown",
   "metadata": {},
   "source": [
    "## Building with clang, anaconda, and c++11 support\n",
    "\n",
    "After compilation with clang and pointing to anaconda's python and rebuilt boost, we get errors like this:\n",
    "```\n",
    "dyld: Symbol not found: __ZNSt7__cxx1112basic_stringIcSt11char_traitsIcESaIcEED1Ev\n",
    "  Referenced from: /Users/apembrok/anaconda_boost_install/lib/libboost_system.dylib\n",
    "  Expected in: /usr/lib/libstdc++.6.dylib\n",
    " in /Users/apembrok/anaconda_boost_install/lib/libboost_system.dylib\n",
    "```\n",
    "It seems that I had rebuilt boost without c++11 support, according to [this](http://stackoverflow.com/questions/16358957/os-x-10-6sdk-compatible-with-10-5-leopard-system-znkst13bad-exception4whatev) guy. To include c++11 support, I'm following instructions [here](http://hnrkptrsn.github.io/2013/02/26/c11-and-boost-setup-guide/)\n",
    "\n",
    "Similar instructions may be found [here](https://github.com/beniz/libcmaes/wiki/Building-libcmaes-on-Mac-OSX#building-with-anaconda-python) and [here](http://darkmatter.ps.uci.edu/wiki/AnacondaGalSim) (rebuilding with clang and c++11 explicitly)\n",
    "\n",
    "#### Download boost 1.57.0 and unpack\n",
    "```\n",
    "mkdir $HOME/anaconda_boost_install    \n",
    "wget http://sourceforge.net/projects/boost/files/boost/1.57.0/boost_1_57_0.tar.bz2/download\n",
    "mv download boost_1_57_0.tar.bz2\n",
    "tar xvjf boost_1_57_0.tar.bz2\n",
    "cd boost_1_57_0\n",
    "```\n",
    "#### Install\n",
    "```\n",
    "./bootstrap.sh --with-toolset=clang --prefix=/Users/apembrok/anaconda_boost_install/ --with-python=/Users/apembrok/anaconda/bin/python2.7\n",
    "./b2 clean\n",
    "./b2 toolset=clang cxxflags=\"-std=c++11 -stdlib=libc++\" linkflags=\"-stdlib=libc++\" --prefix=/usr/local -j 10 define=BOOST_SYSTEM_NO_DEPRECATED stage release -a\n",
    "./b2 install toolset=clang cxxflags=\"-std=c++11 -stdlib=libc++\" linkflags=\"-stdlib=libc++\" --prefix=/Users/apembrok/anaconda_boost_install/ -a\n",
    "```\n",
    "\"-a\" should build everything, including boost-python\n"
   ]
  },
  {
   "cell_type": "markdown",
   "metadata": {},
   "source": [
    "## \"Fixing\" anaconda's install names\n",
    "\n",
    "You may see ```library not found errors``` after compiling Kameleon executables linked to anaconda libraries. The reason is that anaconda doesn't include the full path to the library in the library itself. If running otool -L on libboost_python.dylib looks like this:\n",
    "\n",
    "\t@rpath/./libboost_python.dylib (compatibility version 0.0.0, current version 0.0.0)\n",
    "\n",
    "You may need to use install name tool on anaconda/lib/libpython2.7.dylib, as well as the following boost libraries libpython2.7.dylib\n",
    "\n",
    "* libboost_thread.dylib \n",
    "* libboost_program_options.dylib \n",
    "* libboost_filesystem.dylib \n",
    "* libboost_system.dylib\n",
    "* libboost_python.dylib\n",
    "* libboost_python-mt.dylib\n",
    "\n",
    "Example:\n",
    "\n",
    "    install_name_tool -id /Users/apembrok/anaconda/lib/libboost_python.dylib /Users/apembrok/anaconda/lib/libboost_python.dylib\n",
    "    \n",
    "    install_name_tool -id /Users/apembrok/anaconda_boost_install/lib/libpython2.7.dylib /Users/apembrok/anaconda/lib/libpython2.7.dylib\n",
    "    \n",
    "After running install_name_tool, check that the full path to each library is included in the name according to otool -L"
   ]
  },
  {
   "cell_type": "code",
   "execution_count": 10,
   "metadata": {
    "collapsed": false
   },
   "outputs": [
    {
     "name": "stdout",
     "output_type": "stream",
     "text": [
      "/Users/apembrok/anaconda/lib/libboost_python.dylib:\r\n",
      "\t/Users/apembrok/anaconda/lib/libboost_python.dylib (compatibility version 0.0.0, current version 0.0.0)\r\n",
      "\t@rpath/libpython2.7.dylib (compatibility version 2.7.0, current version 2.7.0)\r\n",
      "\t/usr/lib/libc++.1.dylib (compatibility version 1.0.0, current version 19.0.0)\r\n",
      "\t/usr/lib/libSystem.B.dylib (compatibility version 1.0.0, current version 159.1.0)\r\n"
     ]
    }
   ],
   "source": [
    "!otool -L /Users/apembrok/anaconda/lib/libboost_python.dylib"
   ]
  },
  {
   "cell_type": "code",
   "execution_count": 9,
   "metadata": {
    "collapsed": true
   },
   "outputs": [],
   "source": [
    "!install_name_tool -id /Users/apembrok/anaconda/lib/libpython2.7.dylib /Users/apembrok/anaconda/lib/libpython2.7.dylib"
   ]
  },
  {
   "cell_type": "markdown",
   "metadata": {},
   "source": [
    "## Consider using these compiler flags\n",
    "Here's a description of the flags recommended for different platforms http://stackoverflow.com/a/19774902\n",
    "\n",
    "#### gcc-5 support c++ 11\n",
    "Getting gcc-5 for Linux-64 and OS-X 64\n",
    "\n",
    "    conda install -c salford_systems gcc-5 libgcc-5\n",
    "\n",
    "#### Compiler flags"
   ]
  },
  {
   "cell_type": "code",
   "execution_count": 9,
   "metadata": {
    "collapsed": false
   },
   "outputs": [
    {
     "name": "stdout",
     "output_type": "stream",
     "text": [
      "-I/Users/apembrok/anaconda/include/python2.7 -I/Users/apembrok/anaconda/include/python2.7 -fno-strict-aliasing -I/Users/apembrok/anaconda/include -arch x86_64 -DNDEBUG -g -fwrapv -O3 -Wall -Wstrict-prototypes\r\n"
     ]
    }
   ],
   "source": [
    "!python-config --cflags"
   ]
  },
  {
   "cell_type": "markdown",
   "metadata": {},
   "source": [
    "compile with c++11\n",
    "\n",
    "    cmake -DCMAKE_CXX_FLAGS=\"-std=c++11\" .."
   ]
  },
  {
   "cell_type": "markdown",
   "metadata": {},
   "source": [
    "#### Linker Flags"
   ]
  },
  {
   "cell_type": "code",
   "execution_count": 10,
   "metadata": {
    "collapsed": false
   },
   "outputs": [
    {
     "name": "stdout",
     "output_type": "stream",
     "text": [
      "-lpython2.7 -ldl -framework CoreFoundation -u _PyMac_Error\r\n"
     ]
    }
   ],
   "source": [
    "!python-config --ldflags "
   ]
  }
 ],
 "metadata": {
  "kernelspec": {
   "display_name": "Python 2",
   "language": "python",
   "name": "python2"
  },
  "language_info": {
   "codemirror_mode": {
    "name": "ipython",
    "version": 2
   },
   "file_extension": ".py",
   "mimetype": "text/x-python",
   "name": "python",
   "nbconvert_exporter": "python",
   "pygments_lexer": "ipython2",
   "version": "2.7.11"
  }
 },
 "nbformat": 4,
 "nbformat_minor": 0
}
