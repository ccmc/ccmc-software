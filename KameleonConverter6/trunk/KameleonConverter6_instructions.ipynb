{
 "cells": [
  {
   "cell_type": "markdown",
   "metadata": {},
   "source": [
    "# Converting Kameleon-supported files"
   ]
  },
  {
   "cell_type": "markdown",
   "metadata": {},
   "source": [
    "## Instructions for compiling converter\n",
    "Navigate to the java converter directory\n",
    "\n",
    "    cd ccmc-software/KameleonConverter6/trunk\n",
    "    \n",
    "You'll need the compiler for java, called `javac`\n",
    "    \n",
    "#### Run the compile script"
   ]
  },
  {
   "cell_type": "code",
   "execution_count": 4,
   "metadata": {
    "collapsed": false
   },
   "outputs": [
    {
     "name": "stdout",
     "output_type": "stream",
     "text": [
      "Note: src/gov/nasa/gsfc/ccmc/KameleonConverter/LFM.java uses unchecked or unsafe operations.\r\n",
      "Note: Recompile with -Xlint:unchecked for details.\r\n",
      "Run with the following command:\r\n",
      "java -cp lib/cdfjava.jar:lib/jargs.jar:lib/jhdf.jar:lib/jhdf5.jar:lib/jhdf5obj.jar:lib/jhdfobj.jar:lib/log4j-1.2.15.jar:lib/netcdf-4.2.jar:lib/nujan-1.4.1.1.jar:lib/slf4j-api-1.5.6.jar:lib/slf4j-log4j12-1.5.6.jar:bin -Djava.library.path=lib gov.nasa.gsfc.ccmc.KameleonConverter.CommandLineInterface\r\n"
     ]
    }
   ],
   "source": [
    "!source compile.sh"
   ]
  },
  {
   "cell_type": "markdown",
   "metadata": {},
   "source": [
    "#### Set the environmental variable giving the location of the libraries\n",
    "\n",
    "This is necessary for java to find the libraries\n",
    "\n",
    "On Mac:\n",
    "    \n",
    "    export DYLD_LIBRARY_PATH=lib\n",
    "\n",
    "On Linux:\n",
    "\n",
    "    export PATH=lib\n",
    "\n",
    "*Note this doesn't seem to work properly in ipython"
   ]
  },
  {
   "cell_type": "markdown",
   "metadata": {},
   "source": [
    "####  Run the command\n",
    "\n",
    "     java -cp lib/cdfjava.jar:lib/jargs.jar:lib/jhdf.jar:lib/jhdf5.jar:lib/jhdf5obj.jar:lib/jhdfobj.jar:lib/log4j-1.2.15.jar:lib/netcdf-4.2.jar:lib/nujan-1.4.1.1.jar:lib/slf4j-api-1.5.6.jar:lib/slf4j-log4j12-1.5.6.jar:bin -Djava.library.path=lib gov.nasa.gsfc.ccmc.KameleonConverter.CommandLineInterface -v -f cdf -m <model_name> -i </path/to/input/dir>* -o </path/to/output/dir>"
   ]
  },
  {
   "cell_type": "markdown",
   "metadata": {},
   "source": [
    "## Running KameleonConverter6 in Eclipse\n",
    "\n",
    "The main class is in `CommandLineInterface.java`.\n",
    "\n",
    "To convert from LFM’s hdf4 to hdf5, then under arguments:\n",
    "\n",
    "    -v -f hdf5 -m LFM -i /path/to/input/directory -o /path/to/output/directory \n",
    "\n",
    "And under vm arguments: (this tells Eclipse where the native hdf5 library is)\n",
    "\n",
    "    -Xmx1024m -cp -Dncsa.hdf.hdf5lib.H5.hdf5lib=/Applications/TheHDFGroup/HDFView2.7/lib/macosx/libjhdf5.jnilib\n",
    "\n",
    "Set the environment variable to\n",
    "\n",
    "    DYLD_LIBRARY_PATH=lib"
   ]
  }
 ],
 "metadata": {
  "kernelspec": {
   "display_name": "Python 2",
   "language": "python",
   "name": "python2"
  },
  "language_info": {
   "codemirror_mode": {
    "name": "ipython",
    "version": 2
   },
   "file_extension": ".py",
   "mimetype": "text/x-python",
   "name": "python",
   "nbconvert_exporter": "python",
   "pygments_lexer": "ipython2",
   "version": "2.7.10"
  }
 },
 "nbformat": 4,
 "nbformat_minor": 0
}
